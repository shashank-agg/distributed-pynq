{
 "cells": [
  {
   "cell_type": "code",
   "execution_count": 17,
   "metadata": {},
   "outputs": [
    {
     "data": {
      "text/html": [
       "<table style=\"border: 2px solid white;\">\n",
       "<tr>\n",
       "<td style=\"vertical-align: top; border: 0px solid white\">\n",
       "<h3 style=\"text-align: left;\">Client</h3>\n",
       "<ul style=\"text-align: left; list-style: none; margin: 0; padding: 0;\">\n",
       "  <li><b>Scheduler: </b>tcp://131.180.106.138:8786</li>\n",
       "</ul>\n",
       "</td>\n",
       "<td style=\"vertical-align: top; border: 0px solid white\">\n",
       "<h3 style=\"text-align: left;\">Cluster</h3>\n",
       "<ul style=\"text-align: left; list-style:none; margin: 0; padding: 0;\">\n",
       "  <li><b>Workers: </b>1</li>\n",
       "  <li><b>Cores: </b>40</li>\n",
       "  <li><b>Memory: </b>101.01 GB</li>\n",
       "</ul>\n",
       "</td>\n",
       "</tr>\n",
       "</table>"
      ],
      "text/plain": [
       "<Client: 'tcp://131.180.106.138:8786' processes=1 threads=40, memory=101.01 GB>"
      ]
     },
     "execution_count": 17,
     "metadata": {},
     "output_type": "execute_result"
    }
   ],
   "source": [
    "from dask.distributed import Client, progress, protocol\n",
    "from distributed.protocol import serialize,deserialize\n",
    "from time import time\n",
    "\n",
    "client = Client(\"tcp://131.180.106.138:8786\")\n",
    "client"
   ]
  },
  {
   "cell_type": "code",
   "execution_count": 18,
   "metadata": {},
   "outputs": [],
   "source": [
    "# function which executes on the workers\n",
    "def run_on_worker(data):\n",
    "    print(\"Received data of type: \", type(data))\n",
    "    return {'length': len(data)}"
   ]
  },
  {
   "cell_type": "code",
   "execution_count": 19,
   "metadata": {},
   "outputs": [
    {
     "name": "stdout",
     "output_type": "stream",
     "text": [
      "Size of dataset in MB:  523.6366100311279\n"
     ]
    }
   ],
   "source": [
    "# Our dataset - a mock CSV file with ~4.4 million rows\n",
    "import os\n",
    "print(\"Size of dataset in MB: \", os.path.getsize('test.csv')/(1024*1024))"
   ]
  },
  {
   "cell_type": "markdown",
   "metadata": {},
   "source": [
    "### Using Arrow serialization:"
   ]
  },
  {
   "cell_type": "code",
   "execution_count": 20,
   "metadata": {},
   "outputs": [
    {
     "name": "stdout",
     "output_type": "stream",
     "text": [
      "Time to read csv:  0.6191794872283936\n",
      "Time to scatter:  6.664686918258667\n",
      "Received from workers:  {'length': 4400001}\n"
     ]
    }
   ],
   "source": [
    "from pyarrow import csv\n",
    "\n",
    "t0 = time()\n",
    "data_to_scatter = csv.read_csv(\"test.csv\") \n",
    "print(\"Time to read csv: \", time() - t0)\n",
    "\n",
    "t1 = time()\n",
    "scattered_data = client.scatter(data_to_scatter)\n",
    "print(\"Time to scatter: \", time() - t1)\n",
    "\n",
    "x = client.submit(run_on_worker, scattered_data)\n",
    "ret = x.result()\n",
    "print(\"Received from workers: \", ret)"
   ]
  },
  {
   "cell_type": "code",
   "execution_count": 21,
   "metadata": {},
   "outputs": [
    {
     "name": "stdout",
     "output_type": "stream",
     "text": [
      "Serialized data:\n",
      "({'type': 'pyarrow.lib.Table', 'type-serialized': b'\\x80\\x04\\x95\\x19\\x00\\x00\\x00\\x00\\x00\\x00\\x00\\x8c\\x0bpyarrow.lib\\x94\\x8c\\x05Table\\x94\\x93\\x94.', 'serializer': 'dask'}, [<pyarrow.lib.Buffer object at 0x7f0d3989cdc0>])\n",
      "CPU times: user 230 ms, sys: 156 ms, total: 386 ms\n",
      "Wall time: 384 ms\n"
     ]
    },
    {
     "data": {
      "text/plain": [
       "True"
      ]
     },
     "execution_count": 21,
     "metadata": {},
     "output_type": "execute_result"
    }
   ],
   "source": [
    "print(\"Serialized data:\")\n",
    "print(serialize(data_to_scatter))\n",
    "\n",
    "# Measure time for serialization+deserialization roundtrip\n",
    "%time roundtrip = deserialize(*serialize(data_to_scatter))\n",
    "roundtrip == data_to_scatter"
   ]
  },
  {
   "cell_type": "markdown",
   "metadata": {},
   "source": [
    "### Using Dask's default serialization for DataFrames (pickle):"
   ]
  },
  {
   "cell_type": "code",
   "execution_count": 22,
   "metadata": {},
   "outputs": [
    {
     "name": "stdout",
     "output_type": "stream",
     "text": [
      "Time to read csv:  8.168189525604248\n",
      "Time to scatter:  9.629390716552734\n",
      "Received from workers:  {'length': 4400001}\n"
     ]
    }
   ],
   "source": [
    "import pandas as pd\n",
    "\n",
    "t0 = time()\n",
    "data_to_scatter = pd.read_csv(\"test.csv\") \n",
    "print(\"Time to read csv: \", time() - t0)\n",
    "\n",
    "t1 = time()\n",
    "scattered_data = client.scatter(data_to_scatter)\n",
    "print(\"Time to scatter: \", time() - t1)\n",
    "\n",
    "x = client.submit(run_on_worker, scattered_data)\n",
    "ret = x.result()\n",
    "print(\"Received from workers: \", ret)"
   ]
  },
  {
   "cell_type": "code",
   "execution_count": 23,
   "metadata": {},
   "outputs": [
    {
     "name": "stdout",
     "output_type": "stream",
     "text": [
      "Serialized data:\n",
      "{'serializer': 'pickle'}\n",
      "CPU times: user 2.94 s, sys: 1.46 s, total: 4.41 s\n",
      "Wall time: 4.24 s\n"
     ]
    },
    {
     "data": {
      "text/html": [
       "<div>\n",
       "<style scoped>\n",
       "    .dataframe tbody tr th:only-of-type {\n",
       "        vertical-align: middle;\n",
       "    }\n",
       "\n",
       "    .dataframe tbody tr th {\n",
       "        vertical-align: top;\n",
       "    }\n",
       "\n",
       "    .dataframe thead th {\n",
       "        text-align: right;\n",
       "    }\n",
       "</style>\n",
       "<table border=\"1\" class=\"dataframe\">\n",
       "  <thead>\n",
       "    <tr style=\"text-align: right;\">\n",
       "      <th></th>\n",
       "      <th>Region</th>\n",
       "      <th>Country</th>\n",
       "      <th>Item Type</th>\n",
       "      <th>Sales Channel</th>\n",
       "      <th>Order Priority</th>\n",
       "      <th>Order Date</th>\n",
       "      <th>Order ID</th>\n",
       "      <th>Ship Date</th>\n",
       "      <th>Units Sold</th>\n",
       "      <th>Unit Price</th>\n",
       "      <th>Unit Cost</th>\n",
       "      <th>Total Revenue</th>\n",
       "      <th>Total Cost</th>\n",
       "      <th>Total Profit</th>\n",
       "    </tr>\n",
       "  </thead>\n",
       "  <tbody>\n",
       "    <tr>\n",
       "      <th>0</th>\n",
       "      <td>True</td>\n",
       "      <td>True</td>\n",
       "      <td>True</td>\n",
       "      <td>True</td>\n",
       "      <td>True</td>\n",
       "      <td>True</td>\n",
       "      <td>True</td>\n",
       "      <td>True</td>\n",
       "      <td>True</td>\n",
       "      <td>True</td>\n",
       "      <td>True</td>\n",
       "      <td>True</td>\n",
       "      <td>True</td>\n",
       "      <td>True</td>\n",
       "    </tr>\n",
       "    <tr>\n",
       "      <th>1</th>\n",
       "      <td>True</td>\n",
       "      <td>True</td>\n",
       "      <td>True</td>\n",
       "      <td>True</td>\n",
       "      <td>True</td>\n",
       "      <td>True</td>\n",
       "      <td>True</td>\n",
       "      <td>True</td>\n",
       "      <td>True</td>\n",
       "      <td>True</td>\n",
       "      <td>True</td>\n",
       "      <td>True</td>\n",
       "      <td>True</td>\n",
       "      <td>True</td>\n",
       "    </tr>\n",
       "    <tr>\n",
       "      <th>2</th>\n",
       "      <td>True</td>\n",
       "      <td>True</td>\n",
       "      <td>True</td>\n",
       "      <td>True</td>\n",
       "      <td>True</td>\n",
       "      <td>True</td>\n",
       "      <td>True</td>\n",
       "      <td>True</td>\n",
       "      <td>True</td>\n",
       "      <td>True</td>\n",
       "      <td>True</td>\n",
       "      <td>True</td>\n",
       "      <td>True</td>\n",
       "      <td>True</td>\n",
       "    </tr>\n",
       "    <tr>\n",
       "      <th>3</th>\n",
       "      <td>True</td>\n",
       "      <td>True</td>\n",
       "      <td>True</td>\n",
       "      <td>True</td>\n",
       "      <td>True</td>\n",
       "      <td>True</td>\n",
       "      <td>True</td>\n",
       "      <td>True</td>\n",
       "      <td>True</td>\n",
       "      <td>True</td>\n",
       "      <td>True</td>\n",
       "      <td>True</td>\n",
       "      <td>True</td>\n",
       "      <td>True</td>\n",
       "    </tr>\n",
       "    <tr>\n",
       "      <th>4</th>\n",
       "      <td>True</td>\n",
       "      <td>True</td>\n",
       "      <td>True</td>\n",
       "      <td>True</td>\n",
       "      <td>True</td>\n",
       "      <td>True</td>\n",
       "      <td>True</td>\n",
       "      <td>True</td>\n",
       "      <td>True</td>\n",
       "      <td>True</td>\n",
       "      <td>True</td>\n",
       "      <td>True</td>\n",
       "      <td>True</td>\n",
       "      <td>True</td>\n",
       "    </tr>\n",
       "    <tr>\n",
       "      <th>...</th>\n",
       "      <td>...</td>\n",
       "      <td>...</td>\n",
       "      <td>...</td>\n",
       "      <td>...</td>\n",
       "      <td>...</td>\n",
       "      <td>...</td>\n",
       "      <td>...</td>\n",
       "      <td>...</td>\n",
       "      <td>...</td>\n",
       "      <td>...</td>\n",
       "      <td>...</td>\n",
       "      <td>...</td>\n",
       "      <td>...</td>\n",
       "      <td>...</td>\n",
       "    </tr>\n",
       "    <tr>\n",
       "      <th>4399996</th>\n",
       "      <td>True</td>\n",
       "      <td>True</td>\n",
       "      <td>True</td>\n",
       "      <td>True</td>\n",
       "      <td>True</td>\n",
       "      <td>True</td>\n",
       "      <td>True</td>\n",
       "      <td>True</td>\n",
       "      <td>True</td>\n",
       "      <td>True</td>\n",
       "      <td>True</td>\n",
       "      <td>True</td>\n",
       "      <td>True</td>\n",
       "      <td>True</td>\n",
       "    </tr>\n",
       "    <tr>\n",
       "      <th>4399997</th>\n",
       "      <td>True</td>\n",
       "      <td>True</td>\n",
       "      <td>True</td>\n",
       "      <td>True</td>\n",
       "      <td>True</td>\n",
       "      <td>True</td>\n",
       "      <td>True</td>\n",
       "      <td>True</td>\n",
       "      <td>True</td>\n",
       "      <td>True</td>\n",
       "      <td>True</td>\n",
       "      <td>True</td>\n",
       "      <td>True</td>\n",
       "      <td>True</td>\n",
       "    </tr>\n",
       "    <tr>\n",
       "      <th>4399998</th>\n",
       "      <td>True</td>\n",
       "      <td>True</td>\n",
       "      <td>True</td>\n",
       "      <td>True</td>\n",
       "      <td>True</td>\n",
       "      <td>True</td>\n",
       "      <td>True</td>\n",
       "      <td>True</td>\n",
       "      <td>True</td>\n",
       "      <td>True</td>\n",
       "      <td>True</td>\n",
       "      <td>True</td>\n",
       "      <td>True</td>\n",
       "      <td>True</td>\n",
       "    </tr>\n",
       "    <tr>\n",
       "      <th>4399999</th>\n",
       "      <td>True</td>\n",
       "      <td>True</td>\n",
       "      <td>True</td>\n",
       "      <td>True</td>\n",
       "      <td>True</td>\n",
       "      <td>True</td>\n",
       "      <td>True</td>\n",
       "      <td>True</td>\n",
       "      <td>True</td>\n",
       "      <td>True</td>\n",
       "      <td>True</td>\n",
       "      <td>True</td>\n",
       "      <td>True</td>\n",
       "      <td>True</td>\n",
       "    </tr>\n",
       "    <tr>\n",
       "      <th>4400000</th>\n",
       "      <td>True</td>\n",
       "      <td>True</td>\n",
       "      <td>True</td>\n",
       "      <td>True</td>\n",
       "      <td>True</td>\n",
       "      <td>True</td>\n",
       "      <td>True</td>\n",
       "      <td>True</td>\n",
       "      <td>True</td>\n",
       "      <td>True</td>\n",
       "      <td>True</td>\n",
       "      <td>True</td>\n",
       "      <td>True</td>\n",
       "      <td>True</td>\n",
       "    </tr>\n",
       "  </tbody>\n",
       "</table>\n",
       "<p>4400001 rows × 14 columns</p>\n",
       "</div>"
      ],
      "text/plain": [
       "         Region  Country  Item Type  Sales Channel  Order Priority  \\\n",
       "0          True     True       True           True            True   \n",
       "1          True     True       True           True            True   \n",
       "2          True     True       True           True            True   \n",
       "3          True     True       True           True            True   \n",
       "4          True     True       True           True            True   \n",
       "...         ...      ...        ...            ...             ...   \n",
       "4399996    True     True       True           True            True   \n",
       "4399997    True     True       True           True            True   \n",
       "4399998    True     True       True           True            True   \n",
       "4399999    True     True       True           True            True   \n",
       "4400000    True     True       True           True            True   \n",
       "\n",
       "         Order Date  Order ID  Ship Date  Units Sold  Unit Price  Unit Cost  \\\n",
       "0              True      True       True        True        True       True   \n",
       "1              True      True       True        True        True       True   \n",
       "2              True      True       True        True        True       True   \n",
       "3              True      True       True        True        True       True   \n",
       "4              True      True       True        True        True       True   \n",
       "...             ...       ...        ...         ...         ...        ...   \n",
       "4399996        True      True       True        True        True       True   \n",
       "4399997        True      True       True        True        True       True   \n",
       "4399998        True      True       True        True        True       True   \n",
       "4399999        True      True       True        True        True       True   \n",
       "4400000        True      True       True        True        True       True   \n",
       "\n",
       "         Total Revenue  Total Cost  Total Profit  \n",
       "0                 True        True          True  \n",
       "1                 True        True          True  \n",
       "2                 True        True          True  \n",
       "3                 True        True          True  \n",
       "4                 True        True          True  \n",
       "...                ...         ...           ...  \n",
       "4399996           True        True          True  \n",
       "4399997           True        True          True  \n",
       "4399998           True        True          True  \n",
       "4399999           True        True          True  \n",
       "4400000           True        True          True  \n",
       "\n",
       "[4400001 rows x 14 columns]"
      ]
     },
     "execution_count": 23,
     "metadata": {},
     "output_type": "execute_result"
    }
   ],
   "source": [
    "print(\"Serialized data:\")\n",
    "print(serialize(data_to_scatter)[0])\n",
    "\n",
    "# Measure time for serialization+deserialization roundtrip\n",
    "\n",
    "%time roundtrip = deserialize(*serialize(data_to_scatter))\n",
    "roundtrip == data_to_scatter"
   ]
  },
  {
   "cell_type": "code",
   "execution_count": null,
   "metadata": {},
   "outputs": [],
   "source": []
  }
 ],
 "metadata": {
  "kernelspec": {
   "display_name": "Python 3",
   "language": "python",
   "name": "python3"
  },
  "language_info": {
   "codemirror_mode": {
    "name": "ipython",
    "version": 3
   },
   "file_extension": ".py",
   "mimetype": "text/x-python",
   "name": "python",
   "nbconvert_exporter": "python",
   "pygments_lexer": "ipython3",
   "version": "3.6.8"
  }
 },
 "nbformat": 4,
 "nbformat_minor": 4
}
