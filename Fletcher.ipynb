{
 "cells": [
  {
   "cell_type": "code",
   "execution_count": null,
   "metadata": {},
   "outputs": [],
   "source": [
    "from dask.distributed import Client, progress, get_worker\n",
    "import numpy as np\n",
    "import pyarrow as pa\n",
    "import pyfletcher as pf\n",
    "\n",
    "# Insert the scheduler IP below (available after running the \"dask-scheduler\" command)\n",
    "client = Client(\"tcp://XXX.XXX.XXX.XXX:8786\")\n",
    "client"
   ]
  },
  {
   "cell_type": "code",
   "execution_count": null,
   "metadata": {},
   "outputs": [],
   "source": [
    "def run_on_worker(batch):\n",
    "    platform = pf.Platform()                         # Create an interface to an auto-detected FPGA Platform.\n",
    "    platform.init()                                  # Initialize the Platform.\n",
    "\n",
    "    context = pf.Context(platform)                   # Create a Context for our data on the Platform.\n",
    "    context.queue_record_batch(batch)                # Queue the RecordBatch to the Context.\n",
    "    context.enable()                                 # Enable the Context, (potentially transferring the data to FPGA).\n",
    "\n",
    "    kernel = pf.Kernel(context)                      # Set up an interface to the Kernel, supplying the Context.    \n",
    "    kernel.start()                                   # Start the kernel.\n",
    "    kernel.wait_for_finish()                         # Wait for the kernel to finish.\n",
    "\n",
    "    result = kernel.get_return(np.dtype(np.int32))  # Obtain the result.\n",
    "    print(\"Sum: *****************************************\" + str(result))                     # Print the on the worker.\n",
    "    return result"
   ]
  },
  {
   "cell_type": "code",
   "execution_count": null,
   "metadata": {},
   "outputs": [],
   "source": [
    "import time\n",
    "\n",
    "t0 = time.time()\n",
    "\n",
    "# Create a new field named \"number\" of type int64 that is not nullable.\n",
    "number_field = pa.field('number', pa.int64(), nullable=False)\n",
    "\n",
    "# Create a list of fields for pa.schema()\n",
    "schema_fields = [number_field]\n",
    "\n",
    "# Create a new schema from the fields.\n",
    "schema = pa.schema(schema_fields)\n",
    "\n",
    "# Construct some metadata to explain Fletchgen that it\n",
    "# should allow the FPGA kernel to read from this schema.\n",
    "metadata = {b'fletcher_mode': b'read',\n",
    "            b'fletcher_name': b'ExampleBatch'}\n",
    "\n",
    "# Add the metadata to the schema\n",
    "schema = schema.with_metadata(metadata)\n",
    "\n",
    "# Create a list of PyArrow Arrays. Every Array can be seen\n",
    "# as a 'Column' of the RecordBatch we will create.\n",
    "data = [pa.array([10,20,30,40,50,60,70,80])]\n",
    "\n",
    "# Create a RecordBatch from the Arrays.\n",
    "recordbatch = pa.RecordBatch.from_arrays(data, schema=schema)\n",
    "\n",
    "\n",
    "# Split input data based on no. of workers\n",
    "num_of_workers = len(client.scheduler_info()[\"workers\"])\n",
    "data_split = []\n",
    "start = 0\n",
    "chunk_size = int(len(recordbatch)/num_of_workers)\n",
    "for i in range(num_of_workers):\n",
    "    data_split.append((recordbatch[start: start+chunk_size]))\n",
    "    start += chunk_size\n",
    "print(f\"Split recordbatch of size {len(recordbatch)} into {num_of_workers} chunk(s)\")\n",
    "    \n",
    "\n",
    "# Scatter the data to the workers before calling run_on_worker on the workers\n",
    "distributed_data = client.scatter(data_split)\n",
    "futures = client.map(run_on_worker, distributed_data)\n",
    "\n",
    "#Print the output returned by the workers\n",
    "results = client.gather(futures)\n",
    "print(\"Received from workers: \", results)\n",
    "print(\"Total sum \", sum(results))\n",
    "t1 = time.time()\n",
    "\n",
    "print(\"TOTAL EXECUTION TIME: \", t1 - t0)"
   ]
  },
  {
   "cell_type": "code",
   "execution_count": null,
   "metadata": {},
   "outputs": [],
   "source": []
  }
 ],
 "metadata": {
  "kernelspec": {
   "display_name": "Python 3",
   "language": "python",
   "name": "python3"
  },
  "language_info": {
   "codemirror_mode": {
    "name": "ipython",
    "version": 3
   },
   "file_extension": ".py",
   "mimetype": "text/x-python",
   "name": "python",
   "nbconvert_exporter": "python",
   "pygments_lexer": "ipython3",
   "version": "3.6.8"
  }
 },
 "nbformat": 4,
 "nbformat_minor": 4
}
